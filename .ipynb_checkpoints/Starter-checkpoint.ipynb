{
 "cells": [
  {
   "cell_type": "code",
   "execution_count": 3,
   "metadata": {},
   "outputs": [
    {
     "name": "stdout",
     "output_type": "stream",
     "text": [
      "fatal: destination path 'pytorch-CycleGAN-and-pix2pix' already exists and is not an empty directory.\r\n"
     ]
    }
   ],
   "source": [
    "!git clone https://github.com/junyanz/pytorch-CycleGAN-and-pix2pix"
   ]
  },
  {
   "cell_type": "code",
   "execution_count": 8,
   "metadata": {
    "scrolled": true
   },
   "outputs": [
    {
     "name": "stdout",
     "output_type": "stream",
     "text": [
      "Requirement already satisfied: torch>=1.4.0 in /home/Yizhi/anaconda3/envs/pix2pix/lib/python3.6/site-packages (from -r requirements.txt (line 1)) (1.4.0)\n",
      "Requirement already satisfied: torchvision>=0.5.0 in /home/Yizhi/anaconda3/envs/pix2pix/lib/python3.6/site-packages (from -r requirements.txt (line 2)) (0.5.0)\n",
      "Requirement already satisfied: dominate>=2.4.0 in /home/Yizhi/anaconda3/envs/pix2pix/lib/python3.6/site-packages (from -r requirements.txt (line 3)) (2.4.0)\n",
      "Requirement already satisfied: visdom>=0.1.8.8 in /home/Yizhi/anaconda3/envs/pix2pix/lib/python3.6/site-packages (from -r requirements.txt (line 4)) (0.1.8.9)\n",
      "Requirement already satisfied: numpy in /home/Yizhi/anaconda3/envs/pix2pix/lib/python3.6/site-packages (from torchvision>=0.5.0->-r requirements.txt (line 2)) (1.16.4)\n",
      "Requirement already satisfied: pillow>=4.1.1 in /home/Yizhi/anaconda3/envs/pix2pix/lib/python3.6/site-packages (from torchvision>=0.5.0->-r requirements.txt (line 2)) (6.1.0)\n",
      "Requirement already satisfied: six in /home/Yizhi/anaconda3/envs/pix2pix/lib/python3.6/site-packages (from torchvision>=0.5.0->-r requirements.txt (line 2)) (1.15.0)\n",
      "Requirement already satisfied: websocket-client in /home/Yizhi/anaconda3/envs/pix2pix/lib/python3.6/site-packages (from visdom>=0.1.8.8->-r requirements.txt (line 4)) (0.59.0)\n",
      "Requirement already satisfied: pyzmq in /home/Yizhi/anaconda3/envs/pix2pix/lib/python3.6/site-packages (from visdom>=0.1.8.8->-r requirements.txt (line 4)) (19.0.1)\n",
      "Requirement already satisfied: torchfile in /home/Yizhi/anaconda3/envs/pix2pix/lib/python3.6/site-packages (from visdom>=0.1.8.8->-r requirements.txt (line 4)) (0.1.0)\n",
      "Requirement already satisfied: scipy in /home/Yizhi/anaconda3/envs/pix2pix/lib/python3.6/site-packages (from visdom>=0.1.8.8->-r requirements.txt (line 4)) (1.5.2)\n",
      "Requirement already satisfied: jsonpatch in /home/Yizhi/anaconda3/envs/pix2pix/lib/python3.6/site-packages (from visdom>=0.1.8.8->-r requirements.txt (line 4)) (1.32)\n",
      "Requirement already satisfied: requests in /home/Yizhi/anaconda3/envs/pix2pix/lib/python3.6/site-packages (from visdom>=0.1.8.8->-r requirements.txt (line 4)) (2.24.0)\n",
      "Requirement already satisfied: tornado in /home/Yizhi/anaconda3/envs/pix2pix/lib/python3.6/site-packages (from visdom>=0.1.8.8->-r requirements.txt (line 4)) (6.0.4)\n",
      "Requirement already satisfied: jsonpointer>=1.9 in /home/Yizhi/anaconda3/envs/pix2pix/lib/python3.6/site-packages (from jsonpatch->visdom>=0.1.8.8->-r requirements.txt (line 4)) (2.1)\n",
      "Requirement already satisfied: certifi>=2017.4.17 in /home/Yizhi/anaconda3/envs/pix2pix/lib/python3.6/site-packages (from requests->visdom>=0.1.8.8->-r requirements.txt (line 4)) (2020.6.20)\n",
      "Requirement already satisfied: idna<3,>=2.5 in /home/Yizhi/anaconda3/envs/pix2pix/lib/python3.6/site-packages (from requests->visdom>=0.1.8.8->-r requirements.txt (line 4)) (2.10)\n",
      "Requirement already satisfied: urllib3!=1.25.0,!=1.25.1,<1.26,>=1.21.1 in /home/Yizhi/anaconda3/envs/pix2pix/lib/python3.6/site-packages (from requests->visdom>=0.1.8.8->-r requirements.txt (line 4)) (1.25.9)\n",
      "Requirement already satisfied: chardet<4,>=3.0.2 in /home/Yizhi/anaconda3/envs/pix2pix/lib/python3.6/site-packages (from requests->visdom>=0.1.8.8->-r requirements.txt (line 4)) (3.0.4)\n"
     ]
    }
   ],
   "source": [
    "!pip install -r requirements.txt"
   ]
  },
  {
   "cell_type": "code",
   "execution_count": null,
   "metadata": {},
   "outputs": [],
   "source": [
    "# may need to run this every time\n",
    "import os\n",
    "os.chdir('pytorch-CycleGAN-and-pix2pix/')"
   ]
  },
  {
   "cell_type": "code",
   "execution_count": 10,
   "metadata": {},
   "outputs": [],
   "source": [
    "# run this every time\n",
    "# pix2pix is the new virtual environment name\n",
    "!source activate pix2pix"
   ]
  },
  {
   "cell_type": "code",
   "execution_count": null,
   "metadata": {},
   "outputs": [],
   "source": []
  },
  {
   "cell_type": "code",
   "execution_count": null,
   "metadata": {},
   "outputs": [],
   "source": []
  }
 ],
 "metadata": {
  "anaconda-cloud": {},
  "kernelspec": {
   "display_name": "Python 3",
   "language": "python",
   "name": "python3"
  },
  "language_info": {
   "codemirror_mode": {
    "name": "ipython",
    "version": 3
   },
   "file_extension": ".py",
   "mimetype": "text/x-python",
   "name": "python",
   "nbconvert_exporter": "python",
   "pygments_lexer": "ipython3",
   "version": "3.6.10"
  }
 },
 "nbformat": 4,
 "nbformat_minor": 1
}
