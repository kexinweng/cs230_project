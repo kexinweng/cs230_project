{
 "cells": [
  {
   "cell_type": "code",
   "execution_count": 4,
   "metadata": {
    "collapsed": false
   },
   "outputs": [
    {
     "data": {
      "text/plain": [
       "['================ Training Loss (Sat May 15 08:26:04 2021) ================\\n',\n",
       " '(epoch: 1, iters: 100, time: 1.490, data: 0.588) D_A: 0.379 G_A: 0.541 cycle_A: 7.213 idt_A: 1.123 D_B: 0.361 G_B: 0.187 cycle_B: 2.695 idt_B: 3.566 \\n',\n",
       " '(epoch: 1, iters: 200, time: 1.502, data: 0.002) D_A: 0.263 G_A: 0.344 cycle_A: 1.554 idt_A: 1.182 D_B: 0.308 G_B: 0.316 cycle_B: 2.717 idt_B: 0.651 \\n',\n",
       " '(epoch: 1, iters: 300, time: 1.497, data: 0.002) D_A: 0.175 G_A: 0.234 cycle_A: 2.634 idt_A: 1.120 D_B: 0.309 G_B: 0.344 cycle_B: 2.952 idt_B: 1.163 \\n',\n",
       " '(epoch: 1, iters: 400, time: 1.941, data: 0.002) D_A: 0.310 G_A: 0.382 cycle_A: 2.605 idt_A: 0.735 D_B: 0.216 G_B: 0.243 cycle_B: 1.870 idt_B: 1.261 \\n',\n",
       " '(epoch: 1, iters: 500, time: 1.508, data: 0.002) D_A: 0.225 G_A: 0.326 cycle_A: 2.341 idt_A: 1.089 D_B: 0.242 G_B: 0.286 cycle_B: 2.627 idt_B: 1.067 \\n',\n",
       " '(epoch: 1, iters: 600, time: 1.502, data: 0.002) D_A: 0.354 G_A: 0.290 cycle_A: 1.552 idt_A: 0.788 D_B: 0.309 G_B: 0.372 cycle_B: 1.817 idt_B: 0.674 \\n',\n",
       " '(epoch: 1, iters: 700, time: 1.500, data: 0.002) D_A: 0.223 G_A: 0.367 cycle_A: 1.244 idt_A: 0.805 D_B: 0.312 G_B: 0.400 cycle_B: 1.802 idt_B: 0.503 \\n',\n",
       " '(epoch: 1, iters: 800, time: 1.685, data: 0.003) D_A: 0.182 G_A: 0.318 cycle_A: 1.483 idt_A: 1.181 D_B: 0.388 G_B: 0.367 cycle_B: 2.875 idt_B: 0.527 \\n',\n",
       " '(epoch: 2, iters: 50, time: 1.508, data: 0.002) D_A: 0.221 G_A: 0.306 cycle_A: 2.158 idt_A: 1.342 D_B: 0.272 G_B: 0.317 cycle_B: 2.727 idt_B: 1.079 \\n',\n",
       " '(epoch: 2, iters: 150, time: 1.492, data: 0.002) D_A: 0.201 G_A: 0.590 cycle_A: 3.324 idt_A: 1.078 D_B: 0.226 G_B: 0.348 cycle_B: 2.436 idt_B: 1.418 \\n',\n",
       " '(epoch: 2, iters: 250, time: 1.501, data: 0.002) D_A: 0.260 G_A: 0.268 cycle_A: 1.285 idt_A: 0.881 D_B: 0.228 G_B: 0.267 cycle_B: 1.980 idt_B: 0.548 \\n',\n",
       " '(epoch: 2, iters: 350, time: 1.863, data: 0.002) D_A: 0.111 G_A: 0.568 cycle_A: 3.144 idt_A: 0.645 D_B: 0.113 G_B: 0.213 cycle_B: 1.437 idt_B: 1.408 \\n',\n",
       " '(epoch: 2, iters: 450, time: 1.504, data: 0.002) D_A: 0.162 G_A: 0.561 cycle_A: 1.663 idt_A: 0.844 D_B: 0.321 G_B: 0.249 cycle_B: 2.104 idt_B: 0.802 \\n',\n",
       " '(epoch: 2, iters: 550, time: 1.502, data: 0.002) D_A: 0.087 G_A: 0.493 cycle_A: 2.185 idt_A: 0.575 D_B: 0.431 G_B: 0.866 cycle_B: 1.595 idt_B: 0.937 \\n',\n",
       " '================ Training Loss (Sat May 15 11:16:55 2021) ================\\n',\n",
       " '================ Training Loss (Sat May 15 11:17:37 2021) ================\\n',\n",
       " '(epoch: 1, iters: 100, time: 1.414, data: 0.376) D_A: 0.514 G_A: 0.464 cycle_A: 2.292 idt_A: 1.424 D_B: 0.533 G_B: 0.482 cycle_B: 3.265 idt_B: 1.005 \\n',\n",
       " '(epoch: 1, iters: 200, time: 1.415, data: 0.003) D_A: 0.395 G_A: 0.367 cycle_A: 2.323 idt_A: 1.372 D_B: 0.336 G_B: 0.379 cycle_B: 3.052 idt_B: 1.070 \\n',\n",
       " '(epoch: 1, iters: 300, time: 1.410, data: 0.002) D_A: 0.328 G_A: 0.333 cycle_A: 2.611 idt_A: 1.110 D_B: 0.318 G_B: 0.339 cycle_B: 2.416 idt_B: 1.132 \\n',\n",
       " '(epoch: 1, iters: 400, time: 1.519, data: 0.003) D_A: 0.278 G_A: 0.337 cycle_A: 2.271 idt_A: 1.077 D_B: 0.311 G_B: 0.350 cycle_B: 2.382 idt_B: 1.038 \\n',\n",
       " '(epoch: 1, iters: 500, time: 1.405, data: 0.002) D_A: 0.436 G_A: 0.420 cycle_A: 3.187 idt_A: 1.407 D_B: 0.275 G_B: 0.367 cycle_B: 3.261 idt_B: 1.210 \\n',\n",
       " '(epoch: 1, iters: 600, time: 1.415, data: 0.003) D_A: 0.242 G_A: 0.352 cycle_A: 2.068 idt_A: 0.979 D_B: 0.257 G_B: 0.286 cycle_B: 2.274 idt_B: 0.902 \\n',\n",
       " '(epoch: 1, iters: 700, time: 1.407, data: 0.003) D_A: 0.394 G_A: 0.416 cycle_A: 2.297 idt_A: 1.161 D_B: 0.313 G_B: 0.302 cycle_B: 2.999 idt_B: 0.799 \\n',\n",
       " '(epoch: 1, iters: 800, time: 1.452, data: 0.003) D_A: 0.226 G_A: 0.378 cycle_A: 2.533 idt_A: 1.488 D_B: 0.286 G_B: 0.275 cycle_B: 3.552 idt_B: 0.988 \\n',\n",
       " '(epoch: 2, iters: 48, time: 1.409, data: 0.003) D_A: 0.260 G_A: 0.348 cycle_A: 2.641 idt_A: 0.980 D_B: 0.305 G_B: 0.321 cycle_B: 2.421 idt_B: 1.164 \\n',\n",
       " '(epoch: 2, iters: 148, time: 1.417, data: 0.003) D_A: 0.313 G_A: 0.339 cycle_A: 1.555 idt_A: 0.878 D_B: 0.282 G_B: 0.389 cycle_B: 1.878 idt_B: 0.799 \\n',\n",
       " '(epoch: 2, iters: 248, time: 1.411, data: 0.003) D_A: 0.254 G_A: 0.306 cycle_A: 2.204 idt_A: 1.123 D_B: 0.268 G_B: 0.297 cycle_B: 3.057 idt_B: 0.806 \\n',\n",
       " '(epoch: 2, iters: 348, time: 1.502, data: 0.003) D_A: 0.351 G_A: 0.458 cycle_A: 1.387 idt_A: 1.011 D_B: 0.268 G_B: 0.235 cycle_B: 2.402 idt_B: 0.560 \\n',\n",
       " '(epoch: 2, iters: 448, time: 1.411, data: 0.002) D_A: 0.223 G_A: 0.249 cycle_A: 1.979 idt_A: 0.840 D_B: 0.274 G_B: 0.403 cycle_B: 2.040 idt_B: 0.974 \\n',\n",
       " '(epoch: 2, iters: 548, time: 1.413, data: 0.003) D_A: 0.311 G_A: 0.264 cycle_A: 1.664 idt_A: 0.931 D_B: 0.603 G_B: 0.689 cycle_B: 2.086 idt_B: 0.780 \\n',\n",
       " '(epoch: 2, iters: 648, time: 1.410, data: 0.013) D_A: 0.247 G_A: 0.347 cycle_A: 2.025 idt_A: 1.026 D_B: 0.243 G_B: 0.298 cycle_B: 2.579 idt_B: 0.918 \\n',\n",
       " '(epoch: 2, iters: 748, time: 1.459, data: 0.003) D_A: 0.300 G_A: 0.428 cycle_A: 2.063 idt_A: 0.834 D_B: 0.218 G_B: 0.230 cycle_B: 1.899 idt_B: 0.949 \\n',\n",
       " '(epoch: 2, iters: 848, time: 1.411, data: 0.003) D_A: 0.209 G_A: 0.321 cycle_A: 1.526 idt_A: 0.969 D_B: 0.222 G_B: 0.244 cycle_B: 2.132 idt_B: 0.629 \\n',\n",
       " '(epoch: 3, iters: 96, time: 1.410, data: 0.003) D_A: 0.268 G_A: 0.392 cycle_A: 2.050 idt_A: 0.814 D_B: 0.236 G_B: 0.377 cycle_B: 1.871 idt_B: 0.917 \\n',\n",
       " '(epoch: 3, iters: 196, time: 1.414, data: 0.003) D_A: 0.306 G_A: 0.354 cycle_A: 1.915 idt_A: 0.956 D_B: 0.228 G_B: 0.342 cycle_B: 2.267 idt_B: 0.751 \\n',\n",
       " '(epoch: 3, iters: 296, time: 1.500, data: 0.002) D_A: 0.270 G_A: 0.423 cycle_A: 1.695 idt_A: 0.870 D_B: 0.296 G_B: 0.329 cycle_B: 2.004 idt_B: 0.847 \\n',\n",
       " '(epoch: 3, iters: 396, time: 1.416, data: 0.002) D_A: 0.208 G_A: 0.276 cycle_A: 1.412 idt_A: 0.982 D_B: 0.273 G_B: 0.436 cycle_B: 2.261 idt_B: 0.568 \\n',\n",
       " '(epoch: 3, iters: 496, time: 1.407, data: 0.003) D_A: 0.224 G_A: 0.308 cycle_A: 1.665 idt_A: 0.788 D_B: 0.341 G_B: 0.385 cycle_B: 1.759 idt_B: 0.787 \\n',\n",
       " '(epoch: 3, iters: 596, time: 1.410, data: 0.003) D_A: 0.242 G_A: 0.325 cycle_A: 1.449 idt_A: 0.910 D_B: 0.258 G_B: 0.260 cycle_B: 1.967 idt_B: 0.575 \\n',\n",
       " '(epoch: 3, iters: 696, time: 1.452, data: 0.003) D_A: 0.231 G_A: 0.409 cycle_A: 1.423 idt_A: 0.842 D_B: 0.254 G_B: 0.245 cycle_B: 1.835 idt_B: 0.649 \\n',\n",
       " '(epoch: 3, iters: 796, time: 1.412, data: 0.003) D_A: 0.192 G_A: 0.436 cycle_A: 1.465 idt_A: 0.864 D_B: 0.241 G_B: 0.347 cycle_B: 1.958 idt_B: 0.647 \\n',\n",
       " '(epoch: 4, iters: 44, time: 1.413, data: 0.003) D_A: 0.236 G_A: 0.430 cycle_A: 1.304 idt_A: 0.758 D_B: 0.241 G_B: 0.282 cycle_B: 1.612 idt_B: 0.659 \\n',\n",
       " '(epoch: 4, iters: 144, time: 1.405, data: 0.003) D_A: 0.239 G_A: 0.230 cycle_A: 1.643 idt_A: 0.771 D_B: 0.267 G_B: 0.201 cycle_B: 1.544 idt_B: 0.757 \\n',\n",
       " '(epoch: 4, iters: 244, time: 1.502, data: 0.003) D_A: 0.418 G_A: 0.486 cycle_A: 1.552 idt_A: 0.745 D_B: 0.343 G_B: 0.418 cycle_B: 1.559 idt_B: 0.766 \\n',\n",
       " '(epoch: 4, iters: 344, time: 1.407, data: 0.003) D_A: 0.181 G_A: 0.463 cycle_A: 1.770 idt_A: 0.886 D_B: 0.207 G_B: 0.331 cycle_B: 2.210 idt_B: 0.818 \\n',\n",
       " '(epoch: 4, iters: 444, time: 1.419, data: 0.003) D_A: 0.256 G_A: 0.399 cycle_A: 1.391 idt_A: 0.672 D_B: 0.273 G_B: 0.298 cycle_B: 1.404 idt_B: 0.604 \\n',\n",
       " '(epoch: 4, iters: 544, time: 1.413, data: 0.002) D_A: 0.239 G_A: 0.479 cycle_A: 1.414 idt_A: 0.728 D_B: 0.255 G_B: 0.201 cycle_B: 1.565 idt_B: 0.627 \\n',\n",
       " '(epoch: 4, iters: 644, time: 1.454, data: 0.003) D_A: 0.391 G_A: 0.276 cycle_A: 1.209 idt_A: 0.788 D_B: 0.252 G_B: 0.339 cycle_B: 1.905 idt_B: 0.538 \\n',\n",
       " '(epoch: 4, iters: 744, time: 1.415, data: 0.003) D_A: 0.467 G_A: 0.600 cycle_A: 2.057 idt_A: 0.649 D_B: 0.259 G_B: 0.313 cycle_B: 1.386 idt_B: 0.963 \\n',\n",
       " '(epoch: 4, iters: 844, time: 1.421, data: 0.002) D_A: 0.229 G_A: 0.568 cycle_A: 1.157 idt_A: 0.847 D_B: 0.275 G_B: 0.286 cycle_B: 1.938 idt_B: 0.496 \\n',\n",
       " '(epoch: 5, iters: 92, time: 1.411, data: 0.003) D_A: 0.275 G_A: 0.360 cycle_A: 1.834 idt_A: 0.770 D_B: 0.389 G_B: 0.355 cycle_B: 1.742 idt_B: 0.697 \\n',\n",
       " '(epoch: 5, iters: 192, time: 1.499, data: 0.003) D_A: 0.217 G_A: 0.357 cycle_A: 1.261 idt_A: 0.722 D_B: 0.260 G_B: 0.275 cycle_B: 1.547 idt_B: 0.611 \\n',\n",
       " '(epoch: 5, iters: 292, time: 1.416, data: 0.003) D_A: 0.177 G_A: 0.441 cycle_A: 1.400 idt_A: 0.791 D_B: 0.252 G_B: 0.325 cycle_B: 1.783 idt_B: 0.680 \\n',\n",
       " '(epoch: 5, iters: 392, time: 1.416, data: 0.002) D_A: 0.197 G_A: 0.430 cycle_A: 1.339 idt_A: 0.679 D_B: 0.222 G_B: 0.375 cycle_B: 1.471 idt_B: 0.604 \\n',\n",
       " '(epoch: 5, iters: 492, time: 1.406, data: 0.003) D_A: 0.261 G_A: 0.188 cycle_A: 1.088 idt_A: 0.919 D_B: 0.237 G_B: 0.291 cycle_B: 1.926 idt_B: 0.530 \\n',\n",
       " '(epoch: 5, iters: 592, time: 1.504, data: 0.003) D_A: 0.314 G_A: 0.201 cycle_A: 2.170 idt_A: 0.890 D_B: 0.252 G_B: 0.261 cycle_B: 2.249 idt_B: 0.870 \\n',\n",
       " '(epoch: 5, iters: 692, time: 1.415, data: 0.002) D_A: 0.164 G_A: 0.344 cycle_A: 1.092 idt_A: 0.678 D_B: 0.267 G_B: 0.274 cycle_B: 1.477 idt_B: 0.502 \\n',\n",
       " '(epoch: 5, iters: 792, time: 1.415, data: 0.003) D_A: 0.282 G_A: 0.493 cycle_A: 2.019 idt_A: 0.742 D_B: 0.288 G_B: 0.307 cycle_B: 1.596 idt_B: 0.789 \\n',\n",
       " '(epoch: 6, iters: 40, time: 1.410, data: 0.003) D_A: 0.231 G_A: 0.234 cycle_A: 1.402 idt_A: 0.736 D_B: 0.260 G_B: 0.334 cycle_B: 1.624 idt_B: 0.650 \\n',\n",
       " '(epoch: 6, iters: 140, time: 1.511, data: 0.002) D_A: 0.220 G_A: 0.462 cycle_A: 1.350 idt_A: 0.614 D_B: 0.218 G_B: 0.292 cycle_B: 1.459 idt_B: 0.680 \\n',\n",
       " '(epoch: 6, iters: 240, time: 1.412, data: 0.002) D_A: 0.227 G_A: 0.319 cycle_A: 1.532 idt_A: 0.606 D_B: 0.269 G_B: 0.363 cycle_B: 1.276 idt_B: 0.630 \\n',\n",
       " '(epoch: 6, iters: 340, time: 1.421, data: 0.003) D_A: 0.244 G_A: 0.329 cycle_A: 1.974 idt_A: 0.736 D_B: 0.269 G_B: 0.384 cycle_B: 1.469 idt_B: 0.869 \\n',\n",
       " '(epoch: 6, iters: 440, time: 1.413, data: 0.003) D_A: 0.259 G_A: 0.275 cycle_A: 1.441 idt_A: 0.927 D_B: 0.258 G_B: 0.340 cycle_B: 2.384 idt_B: 0.549 \\n',\n",
       " '(epoch: 6, iters: 540, time: 1.461, data: 0.002) D_A: 0.252 G_A: 0.235 cycle_A: 1.220 idt_A: 0.735 D_B: 0.301 G_B: 0.458 cycle_B: 1.657 idt_B: 0.589 \\n',\n",
       " '(epoch: 6, iters: 640, time: 1.406, data: 0.003) D_A: 0.250 G_A: 0.228 cycle_A: 1.784 idt_A: 0.613 D_B: 0.290 G_B: 0.385 cycle_B: 1.382 idt_B: 0.770 \\n',\n",
       " '(epoch: 6, iters: 740, time: 1.409, data: 0.002) D_A: 0.221 G_A: 0.348 cycle_A: 1.435 idt_A: 0.654 D_B: 0.217 G_B: 0.493 cycle_B: 1.540 idt_B: 0.822 \\n',\n",
       " '(epoch: 6, iters: 840, time: 1.412, data: 0.003) D_A: 0.279 G_A: 0.494 cycle_A: 1.035 idt_A: 0.647 D_B: 0.292 G_B: 0.288 cycle_B: 1.406 idt_B: 0.502 \\n',\n",
       " '(epoch: 7, iters: 88, time: 1.515, data: 0.003) D_A: 0.215 G_A: 0.329 cycle_A: 1.259 idt_A: 0.567 D_B: 0.282 G_B: 0.401 cycle_B: 1.315 idt_B: 0.630 \\n',\n",
       " '(epoch: 7, iters: 188, time: 1.412, data: 0.002) D_A: 0.260 G_A: 0.273 cycle_A: 1.467 idt_A: 0.640 D_B: 0.217 G_B: 0.198 cycle_B: 1.552 idt_B: 0.672 \\n',\n",
       " '(epoch: 7, iters: 288, time: 1.407, data: 0.003) D_A: 0.237 G_A: 0.409 cycle_A: 1.346 idt_A: 0.523 D_B: 0.259 G_B: 0.196 cycle_B: 1.110 idt_B: 0.680 \\n',\n",
       " '(epoch: 7, iters: 388, time: 1.414, data: 0.003) D_A: 0.228 G_A: 0.370 cycle_A: 1.606 idt_A: 0.696 D_B: 0.177 G_B: 0.335 cycle_B: 1.638 idt_B: 0.740 \\n',\n",
       " '(epoch: 7, iters: 488, time: 1.457, data: 0.002) D_A: 0.268 G_A: 0.428 cycle_A: 1.905 idt_A: 0.743 D_B: 0.224 G_B: 0.262 cycle_B: 1.690 idt_B: 0.823 \\n',\n",
       " '(epoch: 7, iters: 588, time: 1.411, data: 0.002) D_A: 0.310 G_A: 0.327 cycle_A: 1.336 idt_A: 0.711 D_B: 0.263 G_B: 0.463 cycle_B: 1.451 idt_B: 0.659 \\n',\n",
       " '(epoch: 7, iters: 688, time: 1.406, data: 0.003) D_A: 0.213 G_A: 0.289 cycle_A: 1.665 idt_A: 0.693 D_B: 0.241 G_B: 0.337 cycle_B: 1.558 idt_B: 0.587 \\n',\n",
       " '(epoch: 7, iters: 788, time: 1.407, data: 0.002) D_A: 0.310 G_A: 0.363 cycle_A: 1.455 idt_A: 0.612 D_B: 0.304 G_B: 0.385 cycle_B: 1.435 idt_B: 0.644 \\n',\n",
       " '(epoch: 8, iters: 36, time: 1.575, data: 0.003) D_A: 0.228 G_A: 0.290 cycle_A: 0.930 idt_A: 0.569 D_B: 0.231 G_B: 0.372 cycle_B: 1.315 idt_B: 0.396 \\n',\n",
       " '(epoch: 8, iters: 136, time: 1.413, data: 0.003) D_A: 0.217 G_A: 0.269 cycle_A: 1.642 idt_A: 0.706 D_B: 0.237 G_B: 0.337 cycle_B: 1.827 idt_B: 0.601 \\n',\n",
       " '(epoch: 8, iters: 236, time: 1.416, data: 0.003) D_A: 0.254 G_A: 0.111 cycle_A: 1.567 idt_A: 0.616 D_B: 0.323 G_B: 0.354 cycle_B: 1.294 idt_B: 0.736 \\n',\n",
       " '(epoch: 8, iters: 336, time: 1.413, data: 0.003) D_A: 0.217 G_A: 0.526 cycle_A: 1.780 idt_A: 0.519 D_B: 0.291 G_B: 0.371 cycle_B: 1.124 idt_B: 0.724 \\n',\n",
       " '(epoch: 8, iters: 436, time: 1.456, data: 0.003) D_A: 0.276 G_A: 0.248 cycle_A: 1.497 idt_A: 0.594 D_B: 0.172 G_B: 0.446 cycle_B: 1.384 idt_B: 0.743 \\n',\n",
       " '(epoch: 8, iters: 536, time: 1.408, data: 0.003) D_A: 0.225 G_A: 0.460 cycle_A: 1.379 idt_A: 0.522 D_B: 0.321 G_B: 0.459 cycle_B: 1.220 idt_B: 0.617 \\n',\n",
       " '(epoch: 8, iters: 636, time: 1.404, data: 0.003) D_A: 0.233 G_A: 0.271 cycle_A: 1.192 idt_A: 0.592 D_B: 0.220 G_B: 0.426 cycle_B: 1.390 idt_B: 0.505 \\n',\n",
       " '(epoch: 8, iters: 736, time: 1.412, data: 0.003) D_A: 0.221 G_A: 0.294 cycle_A: 1.870 idt_A: 0.645 D_B: 0.193 G_B: 0.336 cycle_B: 1.542 idt_B: 0.575 \\n',\n",
       " '(epoch: 8, iters: 836, time: 1.460, data: 0.003) D_A: 0.220 G_A: 0.279 cycle_A: 1.471 idt_A: 0.537 D_B: 0.210 G_B: 0.288 cycle_B: 1.368 idt_B: 0.659 \\n',\n",
       " '(epoch: 9, iters: 84, time: 1.414, data: 0.002) D_A: 0.216 G_A: 0.338 cycle_A: 1.501 idt_A: 0.586 D_B: 0.204 G_B: 0.306 cycle_B: 1.473 idt_B: 0.712 \\n',\n",
       " '(epoch: 9, iters: 184, time: 1.418, data: 0.003) D_A: 0.243 G_A: 0.628 cycle_A: 1.188 idt_A: 0.546 D_B: 0.213 G_B: 0.317 cycle_B: 1.299 idt_B: 0.592 \\n',\n",
       " '(epoch: 9, iters: 284, time: 1.412, data: 0.003) D_A: 0.302 G_A: 0.343 cycle_A: 1.377 idt_A: 0.450 D_B: 0.238 G_B: 0.339 cycle_B: 1.003 idt_B: 0.599 \\n',\n",
       " '(epoch: 9, iters: 384, time: 1.525, data: 0.003) D_A: 0.229 G_A: 0.299 cycle_A: 1.351 idt_A: 0.498 D_B: 0.272 G_B: 0.470 cycle_B: 1.167 idt_B: 0.687 \\n',\n",
       " '(epoch: 9, iters: 484, time: 1.413, data: 0.003) D_A: 0.249 G_A: 0.441 cycle_A: 2.014 idt_A: 0.512 D_B: 0.210 G_B: 0.363 cycle_B: 1.310 idt_B: 0.575 \\n',\n",
       " '(epoch: 9, iters: 584, time: 1.415, data: 0.003) D_A: 0.292 G_A: 0.287 cycle_A: 1.340 idt_A: 0.591 D_B: 0.274 G_B: 0.382 cycle_B: 1.373 idt_B: 0.593 \\n',\n",
       " '(epoch: 9, iters: 684, time: 1.405, data: 0.003) D_A: 0.576 G_A: 0.805 cycle_A: 1.190 idt_A: 0.539 D_B: 0.331 G_B: 0.382 cycle_B: 1.250 idt_B: 0.537 \\n',\n",
       " '(epoch: 9, iters: 784, time: 1.457, data: 0.002) D_A: 0.258 G_A: 0.264 cycle_A: 1.972 idt_A: 0.643 D_B: 0.197 G_B: 0.353 cycle_B: 1.554 idt_B: 0.682 \\n',\n",
       " '(epoch: 10, iters: 32, time: 1.412, data: 0.003) D_A: 0.242 G_A: 0.168 cycle_A: 1.579 idt_A: 0.539 D_B: 0.214 G_B: 0.447 cycle_B: 1.238 idt_B: 0.722 \\n',\n",
       " '(epoch: 10, iters: 132, time: 1.413, data: 0.002) D_A: 0.283 G_A: 0.133 cycle_A: 1.432 idt_A: 0.643 D_B: 0.233 G_B: 0.331 cycle_B: 1.373 idt_B: 0.587 \\n',\n",
       " '(epoch: 10, iters: 232, time: 1.412, data: 0.003) D_A: 0.257 G_A: 0.211 cycle_A: 0.967 idt_A: 0.521 D_B: 0.266 G_B: 0.277 cycle_B: 1.278 idt_B: 0.430 \\n',\n",
       " '(epoch: 10, iters: 332, time: 1.524, data: 0.002) D_A: 0.243 G_A: 0.245 cycle_A: 0.997 idt_A: 0.516 D_B: 0.180 G_B: 0.391 cycle_B: 1.206 idt_B: 0.560 \\n',\n",
       " '(epoch: 10, iters: 432, time: 1.411, data: 0.003) D_A: 0.213 G_A: 0.315 cycle_A: 0.983 idt_A: 0.492 D_B: 0.222 G_B: 0.452 cycle_B: 1.215 idt_B: 0.457 \\n',\n",
       " '(epoch: 10, iters: 532, time: 1.410, data: 0.002) D_A: 0.209 G_A: 0.288 cycle_A: 1.174 idt_A: 0.468 D_B: 0.196 G_B: 0.418 cycle_B: 1.145 idt_B: 0.455 \\n',\n",
       " '(epoch: 10, iters: 632, time: 1.411, data: 0.003) D_A: 0.223 G_A: 0.235 cycle_A: 1.000 idt_A: 0.476 D_B: 0.160 G_B: 0.491 cycle_B: 1.141 idt_B: 0.489 \\n',\n",
       " '(epoch: 10, iters: 732, time: 1.467, data: 0.003) D_A: 0.232 G_A: 0.250 cycle_A: 1.049 idt_A: 0.486 D_B: 0.247 G_B: 0.310 cycle_B: 1.088 idt_B: 0.453 \\n',\n",
       " '(epoch: 10, iters: 832, time: 1.417, data: 0.003) D_A: 0.252 G_A: 0.657 cycle_A: 1.142 idt_A: 0.436 D_B: 0.177 G_B: 0.367 cycle_B: 1.084 idt_B: 0.525 \\n',\n",
       " '(epoch: 11, iters: 80, time: 1.418, data: 0.003) D_A: 0.180 G_A: 0.261 cycle_A: 1.242 idt_A: 0.488 D_B: 0.169 G_B: 0.353 cycle_B: 1.243 idt_B: 0.628 \\n',\n",
       " '(epoch: 11, iters: 180, time: 1.407, data: 0.002) D_A: 0.216 G_A: 0.338 cycle_A: 1.303 idt_A: 0.480 D_B: 0.233 G_B: 0.357 cycle_B: 1.114 idt_B: 0.556 \\n',\n",
       " '(epoch: 11, iters: 280, time: 1.518, data: 0.002) D_A: 0.195 G_A: 0.360 cycle_A: 1.138 idt_A: 0.440 D_B: 0.238 G_B: 0.314 cycle_B: 0.939 idt_B: 0.582 \\n',\n",
       " '(epoch: 11, iters: 380, time: 1.413, data: 0.002) D_A: 0.187 G_A: 0.299 cycle_A: 1.406 idt_A: 0.364 D_B: 0.195 G_B: 0.325 cycle_B: 0.882 idt_B: 0.619 \\n',\n",
       " '(epoch: 11, iters: 480, time: 1.417, data: 0.002) D_A: 0.218 G_A: 0.355 cycle_A: 0.954 idt_A: 0.559 D_B: 0.207 G_B: 0.262 cycle_B: 1.355 idt_B: 0.397 \\n',\n",
       " '(epoch: 11, iters: 580, time: 1.416, data: 0.003) D_A: 0.189 G_A: 0.328 cycle_A: 1.356 idt_A: 0.474 D_B: 0.180 G_B: 0.325 cycle_B: 1.102 idt_B: 0.527 \\n',\n",
       " '(epoch: 11, iters: 680, time: 1.452, data: 0.002) D_A: 0.194 G_A: 0.291 cycle_A: 1.100 idt_A: 0.489 D_B: 0.251 G_B: 0.346 cycle_B: 1.097 idt_B: 0.427 \\n',\n",
       " '(epoch: 11, iters: 780, time: 1.408, data: 0.003) D_A: 0.222 G_A: 0.406 cycle_A: 0.886 idt_A: 0.479 D_B: 0.242 G_B: 0.301 cycle_B: 1.125 idt_B: 0.380 \\n',\n",
       " '(epoch: 12, iters: 28, time: 1.409, data: 0.002) D_A: 0.200 G_A: 0.359 cycle_A: 0.938 idt_A: 0.472 D_B: 0.196 G_B: 0.289 cycle_B: 1.170 idt_B: 0.471 \\n',\n",
       " '(epoch: 12, iters: 128, time: 1.413, data: 0.001) D_A: 0.166 G_A: 0.356 cycle_A: 1.177 idt_A: 0.428 D_B: 0.198 G_B: 0.410 cycle_B: 1.036 idt_B: 0.459 \\n',\n",
       " '(epoch: 12, iters: 228, time: 1.524, data: 0.003) D_A: 0.185 G_A: 0.324 cycle_A: 1.092 idt_A: 0.441 D_B: 0.263 G_B: 0.321 cycle_B: 1.001 idt_B: 0.483 \\n',\n",
       " '(epoch: 12, iters: 328, time: 1.412, data: 0.002) D_A: 0.177 G_A: 0.297 cycle_A: 0.908 idt_A: 0.533 D_B: 0.240 G_B: 0.341 cycle_B: 1.370 idt_B: 0.422 \\n',\n",
       " '(epoch: 12, iters: 428, time: 1.413, data: 0.003) D_A: 0.220 G_A: 0.266 cycle_A: 1.268 idt_A: 0.459 D_B: 0.209 G_B: 0.336 cycle_B: 1.048 idt_B: 0.572 \\n',\n",
       " '(epoch: 12, iters: 528, time: 1.417, data: 0.003) D_A: 0.253 G_A: 0.296 cycle_A: 0.785 idt_A: 0.463 D_B: 0.195 G_B: 0.326 cycle_B: 1.026 idt_B: 0.333 \\n',\n",
       " '(epoch: 12, iters: 628, time: 1.531, data: 0.003) D_A: 0.210 G_A: 0.371 cycle_A: 1.056 idt_A: 0.477 D_B: 0.249 G_B: 0.225 cycle_B: 1.106 idt_B: 0.506 \\n',\n",
       " '(epoch: 12, iters: 728, time: 1.411, data: 0.002) D_A: 0.192 G_A: 0.417 cycle_A: 1.002 idt_A: 0.446 D_B: 0.190 G_B: 0.267 cycle_B: 1.026 idt_B: 0.466 \\n',\n",
       " '(epoch: 12, iters: 828, time: 1.408, data: 0.003) D_A: 0.201 G_A: 0.334 cycle_A: 0.875 idt_A: 0.414 D_B: 0.187 G_B: 0.355 cycle_B: 0.960 idt_B: 0.409 \\n',\n",
       " '(epoch: 13, iters: 76, time: 1.412, data: 0.003) D_A: 0.234 G_A: 0.276 cycle_A: 1.012 idt_A: 0.424 D_B: 0.202 G_B: 0.375 cycle_B: 0.981 idt_B: 0.451 \\n',\n",
       " '(epoch: 13, iters: 176, time: 1.519, data: 0.003) D_A: 0.199 G_A: 0.248 cycle_A: 0.924 idt_A: 0.413 D_B: 0.204 G_B: 0.382 cycle_B: 0.953 idt_B: 0.426 \\n',\n",
       " '(epoch: 13, iters: 276, time: 1.407, data: 0.003) D_A: 0.179 G_A: 0.312 cycle_A: 0.931 idt_A: 0.518 D_B: 0.179 G_B: 0.314 cycle_B: 1.228 idt_B: 0.505 \\n',\n",
       " '(epoch: 13, iters: 376, time: 1.411, data: 0.002) D_A: 0.193 G_A: 0.475 cycle_A: 0.805 idt_A: 0.514 D_B: 0.222 G_B: 0.313 cycle_B: 1.172 idt_B: 0.374 \\n',\n",
       " '(epoch: 13, iters: 476, time: 1.414, data: 0.004) D_A: 0.229 G_A: 0.395 cycle_A: 1.264 idt_A: 0.378 D_B: 0.169 G_B: 0.375 cycle_B: 0.863 idt_B: 0.617 \\n',\n",
       " '(epoch: 13, iters: 576, time: 1.456, data: 0.003) D_A: 0.226 G_A: 0.285 cycle_A: 1.061 idt_A: 0.490 D_B: 0.160 G_B: 0.370 cycle_B: 1.151 idt_B: 0.431 \\n',\n",
       " '(epoch: 13, iters: 676, time: 1.415, data: 0.003) D_A: 0.162 G_A: 0.355 cycle_A: 0.935 idt_A: 0.425 D_B: 0.188 G_B: 0.339 cycle_B: 0.983 idt_B: 0.451 \\n',\n",
       " '(epoch: 13, iters: 776, time: 1.411, data: 0.003) D_A: 0.195 G_A: 0.326 cycle_A: 1.270 idt_A: 0.539 D_B: 0.160 G_B: 0.396 cycle_B: 1.271 idt_B: 0.552 \\n',\n",
       " '(epoch: 14, iters: 24, time: 1.413, data: 0.003) D_A: 0.183 G_A: 0.399 cycle_A: 0.998 idt_A: 0.424 D_B: 0.197 G_B: 0.283 cycle_B: 0.963 idt_B: 0.430 \\n',\n",
       " '(epoch: 14, iters: 124, time: 1.527, data: 0.004) D_A: 0.184 G_A: 0.307 cycle_A: 0.943 idt_A: 0.415 D_B: 0.207 G_B: 0.303 cycle_B: 0.911 idt_B: 0.435 \\n',\n",
       " '(epoch: 14, iters: 224, time: 1.413, data: 0.002) D_A: 0.212 G_A: 0.292 cycle_A: 0.958 idt_A: 0.443 D_B: 0.175 G_B: 0.347 cycle_B: 1.005 idt_B: 0.486 \\n',\n",
       " '(epoch: 14, iters: 324, time: 1.410, data: 0.003) D_A: 0.188 G_A: 0.318 cycle_A: 0.959 idt_A: 0.489 D_B: 0.176 G_B: 0.332 cycle_B: 1.185 idt_B: 0.537 \\n',\n",
       " '(epoch: 14, iters: 424, time: 1.412, data: 0.003) D_A: 0.235 G_A: 0.290 cycle_A: 1.150 idt_A: 0.412 D_B: 0.185 G_B: 0.417 cycle_B: 0.914 idt_B: 0.419 \\n',\n",
       " '(epoch: 14, iters: 524, time: 1.460, data: 0.003) D_A: 0.167 G_A: 0.386 cycle_A: 1.105 idt_A: 0.414 D_B: 0.260 G_B: 0.397 cycle_B: 0.913 idt_B: 0.548 \\n',\n",
       " '(epoch: 14, iters: 624, time: 1.412, data: 0.003) D_A: 0.189 G_A: 0.268 cycle_A: 0.822 idt_A: 0.414 D_B: 0.227 G_B: 0.305 cycle_B: 0.911 idt_B: 0.443 \\n',\n",
       " '(epoch: 14, iters: 724, time: 1.406, data: 0.003) D_A: 0.224 G_A: 0.340 cycle_A: 0.785 idt_A: 0.392 D_B: 0.220 G_B: 0.386 cycle_B: 0.881 idt_B: 0.384 \\n',\n",
       " '(epoch: 14, iters: 824, time: 1.412, data: 0.003) D_A: 0.239 G_A: 0.520 cycle_A: 1.144 idt_A: 0.405 D_B: 0.167 G_B: 0.302 cycle_B: 0.904 idt_B: 0.597 \\n',\n",
       " '(epoch: 15, iters: 72, time: 1.545, data: 0.003) D_A: 0.186 G_A: 0.371 cycle_A: 0.913 idt_A: 0.407 D_B: 0.212 G_B: 0.280 cycle_B: 0.942 idt_B: 0.514 \\n',\n",
       " '(epoch: 15, iters: 172, time: 1.407, data: 0.003) D_A: 0.175 G_A: 0.362 cycle_A: 0.799 idt_A: 0.349 D_B: 0.235 G_B: 0.325 cycle_B: 0.800 idt_B: 0.380 \\n',\n",
       " '(epoch: 15, iters: 272, time: 1.412, data: 0.003) D_A: 0.233 G_A: 0.262 cycle_A: 0.904 idt_A: 0.385 D_B: 0.207 G_B: 0.343 cycle_B: 0.908 idt_B: 0.458 \\n',\n",
       " '(epoch: 15, iters: 372, time: 1.411, data: 0.002) D_A: 0.176 G_A: 0.348 cycle_A: 0.964 idt_A: 0.416 D_B: 0.264 G_B: 0.366 cycle_B: 0.944 idt_B: 0.447 \\n',\n",
       " '(epoch: 15, iters: 472, time: 1.464, data: 0.003) D_A: 0.240 G_A: 0.355 cycle_A: 0.863 idt_A: 0.446 D_B: 0.220 G_B: 0.311 cycle_B: 1.030 idt_B: 0.450 \\n',\n",
       " '(epoch: 15, iters: 572, time: 1.413, data: 0.002) D_A: 0.172 G_A: 0.395 cycle_A: 0.945 idt_A: 0.416 D_B: 0.243 G_B: 0.352 cycle_B: 0.965 idt_B: 0.429 \\n',\n",
       " '(epoch: 15, iters: 672, time: 1.415, data: 0.003) D_A: 0.224 G_A: 0.331 cycle_A: 0.986 idt_A: 0.407 D_B: 0.268 G_B: 0.296 cycle_B: 0.953 idt_B: 0.525 \\n',\n",
       " '(epoch: 15, iters: 772, time: 1.412, data: 0.003) D_A: 0.261 G_A: 0.272 cycle_A: 0.927 idt_A: 0.521 D_B: 0.228 G_B: 0.273 cycle_B: 1.180 idt_B: 0.563 \\n']"
      ]
     },
     "execution_count": 4,
     "metadata": {},
     "output_type": "execute_result"
    }
   ],
   "source": [
    "# Python program for reading\n",
    "# from file\n",
    "h = open('./pytorch-CycleGAN-and-pix2pix/checkpoints/face_attempt1/loss_log.txt', 'r')\n",
    "  \n",
    "# Reading from the file\n",
    "content = h.readlines()\n",
    "content"
   ]
  },
  {
   "cell_type": "code",
   "execution_count": 61,
   "metadata": {
    "collapsed": false
   },
   "outputs": [],
   "source": [
    "import re\n",
    "# Iterating through the content of the file\n",
    "epoch,iters,time,data,D_A,G_A,cycle_A,idt_A,D_B,G_B,cycle_B,idt_B = [],[],[],[],[],[],[],[],[],[],[],[]\n",
    "piece_info = []\n",
    "piece_index = []\n",
    "line_idx = 0\n",
    "for line in content:\n",
    "    if line[0]==\"=\":\n",
    "        piece_info.append(line)\n",
    "        piece_index.append(line_idx)\n",
    "        line_idx+=1\n",
    "        epoch.append(0)\n",
    "        iters.append(0)\n",
    "        time.append(0)\n",
    "        data.append(0)\n",
    "        D_A.append(0)\n",
    "        G_A.append(0)\n",
    "        cycle_A.append(0)\n",
    "        idt_A.append(0)\n",
    "        D_B.append(0)\n",
    "        G_B.append(0)\n",
    "        cycle_B.append(0)\n",
    "        idt_B.append(0)\n",
    "        continue\n",
    "    else:\n",
    "        # print(line_idx)\n",
    "        line_idx+=1\n",
    "        # print(line)\n",
    "        line = line.replace(\":\", \" \")\n",
    "        line = line.replace(\",\",\" \")\n",
    "        # print(line)\n",
    "        list_num = re.findall( r'\\d+\\.*\\d*', line)\n",
    "        # print(list_num)\n",
    "        epoch.append(int(list_num[0]))\n",
    "        iters.append(int(list_num[1]))\n",
    "        time.append(float(list_num[2]))\n",
    "        data.append(float(list_num[3]))\n",
    "        D_A.append(float(list_num[4]))\n",
    "        G_A.append(float(list_num[5]))\n",
    "        cycle_A.append(float(list_num[6]))\n",
    "        idt_A.append(float(list_num[7]))\n",
    "        D_B.append(float(list_num[8]))\n",
    "        G_B.append(float(list_num[9]))\n",
    "        cycle_B.append(float(list_num[10]))\n",
    "        idt_B.append(float(list_num[11]))\n"
   ]
  },
  {
   "cell_type": "code",
   "execution_count": 62,
   "metadata": {
    "collapsed": false
   },
   "outputs": [
    {
     "data": {
      "text/plain": [
       "[0, 15, 16]"
      ]
     },
     "execution_count": 62,
     "metadata": {},
     "output_type": "execute_result"
    }
   ],
   "source": [
    "piece_index"
   ]
  },
  {
   "cell_type": "code",
   "execution_count": 70,
   "metadata": {
    "collapsed": true
   },
   "outputs": [],
   "source": [
    "import numpy as np\n",
    "def ema(s, n):\n",
    "    \"\"\"\n",
    "    returns an n period exponential moving average for\n",
    "    the time series s\n",
    "\n",
    "    s is a list ordered from oldest (index 0) to most\n",
    "    recent (index -1)\n",
    "    n is an integer\n",
    "\n",
    "    returns a numeric array of the exponential\n",
    "    moving average\n",
    "    \"\"\"\n",
    "    s = np.array(s)\n",
    "    ema = []\n",
    "    j = 1\n",
    "\n",
    "    #get n sma first and calculate the next n period ema\n",
    "    sma = sum(s[:n]) / n\n",
    "    multiplier = 2 / float(1 + n)\n",
    "    ema.append(sma)\n",
    "\n",
    "    #EMA(current) = ( (Price(current) - EMA(prev) ) x Multiplier) + EMA(prev)\n",
    "    ema.append(( (s[n] - sma) * multiplier) + sma)\n",
    "\n",
    "    #now calculate the rest of the values\n",
    "    for i in s[n+1:]:\n",
    "        tmp = ( (i - ema[j]) * multiplier) + ema[j]\n",
    "        j = j + 1\n",
    "        ema.append(tmp)\n",
    "\n",
    "    return ema"
   ]
  },
  {
   "cell_type": "code",
   "execution_count": 78,
   "metadata": {
    "collapsed": false
   },
   "outputs": [
    {
     "data": {
      "text/plain": [
       "Text(0.5, 1.0, ' Training Loss (Sat May 15 11:17:37 2021) \\n')"
      ]
     },
     "execution_count": 78,
     "metadata": {},
     "output_type": "execute_result"
    },
    {
     "data": {
      "image/png": "[encoded data removed]",
      "text/plain": [
       "<Figure size 432x288 with 1 Axes>"
      ]
     },
     "metadata": {
      "needs_background": "light"
     },
     "output_type": "display_data"
    }
   ],
   "source": [
    "import numpy as np\n",
    "import matplotlib.pyplot as plt\n",
    "import re\n",
    "wma = ema(D_A,10)\n",
    "plt.plot(D_A[17:], '-b', label='D_A original')\n",
    "plt.plot(wma[17:], '-r', label='D_A wma')\n",
    "plt.title(re.sub(\"=\",\"\",content[16]))"
   ]
  },
  {
   "cell_type": "code",
   "execution_count": 57,
   "metadata": {
    "collapsed": false
   },
   "outputs": [
    {
     "data": {
      "text/plain": [
       "'================ Training Loss (Sat May 15 08:26:04 2021) ================\\n'"
      ]
     },
     "execution_count": 57,
     "metadata": {},
     "output_type": "execute_result"
    }
   ],
   "source": [
    "# some sample code for Plotting\n",
    "import numpy as np\n",
    "import matplotlib.pyplot as plt\n",
    "# piecewise plot\n",
    "def draw_loss(lst_iter, lst_loss, lst_acc, title):\n",
    "    plt.plot(lst_iter, lst_loss, '-b', label='loss')\n",
    "    plt.plot(lst_iter, lst_acc, '-r', label='accuracy')\n",
    "\n",
    "    plt.xlabel(\"n iteration\")\n",
    "    plt.legend(loc='upper left')\n",
    "    plt.title(title)\n",
    "\n",
    "    # save image\n",
    "    plt.savefig(title+\".png\")  # should before show method\n",
    "\n",
    "    # show\n",
    "    plt.show()\n",
    "\n",
    "def test_draw():\n",
    "    # iteration num\n",
    "    lst_iter = range(100)\n",
    "\n",
    "    # loss of iteration\n",
    "    lst_loss = [0.01 * i + 0.01 * i ** 2 for i in xrange(100)]\n",
    "    # lst_loss = np.random.randn(1, 100).reshape((100, ))\n",
    "\n",
    "    # accuracy of iteration\n",
    "    lst_acc = [0.01 * i - 0.01 * i ** 2 for i in xrange(100)]\n",
    "    # lst_acc = np.random.randn(1, 100).reshape((100, ))\n",
    "    draw_result(lst_iter, lst_loss, lst_acc, \"sgd_method\")"
   ]
  },
  {
   "cell_type": "code",
   "execution_count": 47,
   "metadata": {
    "collapsed": false
   },
   "outputs": [
    {
     "name": "stdout",
     "output_type": "stream",
     "text": [
      "=\n"
     ]
    }
   ],
   "source": []
  },
  {
   "cell_type": "code",
   "execution_count": null,
   "metadata": {
    "collapsed": true
   },
   "outputs": [],
   "source": []
  }
 ],
 "metadata": {
  "anaconda-cloud": {},
  "kernelspec": {
   "display_name": "Python [conda env:pix2pix]",
   "language": "python",
   "name": "conda-env-pix2pix-py"
  },
  "language_info": {
   "codemirror_mode": {
    "name": "ipython",
    "version": 3
   },
   "file_extension": ".py",
   "mimetype": "text/x-python",
   "name": "python",
   "nbconvert_exporter": "python",
   "pygments_lexer": "ipython3",
   "version": "3.6.10"
  }
 },
 "nbformat": 4,
 "nbformat_minor": 1
}
